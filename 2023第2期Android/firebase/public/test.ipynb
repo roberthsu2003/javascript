{
 "cells": [
  {
   "cell_type": "code",
   "execution_count": 2,
   "metadata": {
    "dotnet_interactive": {
     "language": "javascript"
    },
    "polyglot_notebook": {
     "kernelName": "javascript"
    },
    "vscode": {
     "languageId": "polyglot-notebook"
    }
   },
   "outputs": [
    {
     "data": {
      "text/plain": [
       "abc"
      ]
     },
     "metadata": {},
     "output_type": "display_data"
    }
   ],
   "source": [
    "fetch('./js/codeSearch.json')\n",
    "    .then(res => res.json())\n",
    "    .then(data => console.log(data))\n"
   ]
  },
  {
   "cell_type": "code",
   "execution_count": 3,
   "metadata": {
    "dotnet_interactive": {
     "language": "javascript"
    },
    "polyglot_notebook": {
     "kernelName": "javascript"
    },
    "vscode": {
     "languageId": "polyglot-notebook"
    }
   },
   "outputs": [
    {
     "ename": "Error",
     "evalue": "Module name \"fs\" has not been loaded yet for context: _. Use require([])\nhttps://requirejs.org/docs/errors.html#notloaded",
     "output_type": "error",
     "traceback": [
      "Module name \"fs\" has not been loaded yet for context: _. Use require([])\n",
      "https://requirejs.org/docs/errors.html#notloaded"
     ]
    }
   ],
   "source": [
    "const fs = require('fs');\n",
    "const json_data = require('js/codeSearch.json');\n",
    "\n",
    "fs.readFile(json_data, 'utf8', function (err, data) {\n",
    "  try {\n",
    "    data = JSON.parse(data)\n",
    "    for (let i in data){\n",
    "    console.log('Name:',data)\n",
    "    }\n",
    "  } catch (e) {\n",
    "    // Catch error in case file doesn't exist or isn't valid JSON\n",
    "  }\n",
    "});"
   ]
  }
 ],
 "metadata": {
  "language_info": {
   "name": "python"
  },
  "orig_nbformat": 4
 },
 "nbformat": 4,
 "nbformat_minor": 2
}
