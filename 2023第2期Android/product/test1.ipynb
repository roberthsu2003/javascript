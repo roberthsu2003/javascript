{
 "cells": [
  {
   "cell_type": "code",
   "execution_count": 16,
   "metadata": {
    "dotnet_interactive": {
     "language": "javascript"
    },
    "polyglot_notebook": {
     "kernelName": "javascript"
    },
    "vscode": {
     "languageId": "polyglot-notebook"
    }
   },
   "outputs": [
    {
     "data": {
      "application/json": "1970-01-20T12:10:08.400Z"
     },
     "metadata": {},
     "output_type": "display_data"
    }
   ],
   "source": [
    "timeStamp = 1685408400\n",
    "var dateFormat = new Date(timeStamp)\n",
    "console.log(dateFormat)\n"
   ]
  }
 ],
 "metadata": {
  "language_info": {
   "name": "python"
  },
  "orig_nbformat": 4
 },
 "nbformat": 4,
 "nbformat_minor": 2
}
