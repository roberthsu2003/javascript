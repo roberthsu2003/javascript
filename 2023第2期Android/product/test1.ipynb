{
 "cells": [
  {
   "cell_type": "code",
   "execution_count": 3,
   "metadata": {
    "dotnet_interactive": {
     "language": "javascript"
    },
    "polyglot_notebook": {
     "kernelName": "javascript"
    },
    "vscode": {
     "languageId": "polyglot-notebook"
    }
   },
   "outputs": [],
   "source": [
    "let req = new XMLHttpRequest()\n",
    "\n",
    "req.addEventListener(\"load\",function(event){\n",
    "    console.log(this.responseText)\n",
    "})\n",
    "\n",
    "req.addEventListener(\"error\",function(event){\n",
    "    console.log(\"發生錯誤\")\n",
    "})\n",
    "\n",
    "req.open('GET','codeSearch.json')\n",
    "req.send()\n"
   ]
  }
 ],
 "metadata": {
  "language_info": {
   "name": "python"
  },
  "orig_nbformat": 4
 },
 "nbformat": 4,
 "nbformat_minor": 2
}
