{
 "cells": [
  {
   "cell_type": "code",
   "execution_count": 2,
   "metadata": {
    "dotnet_interactive": {
     "language": "javascript"
    },
    "polyglot_notebook": {
     "kernelName": "javascript"
    },
    "vscode": {
     "languageId": "polyglot-notebook"
    }
   },
   "outputs": [
    {
     "data": {
      "application/json": {}
     },
     "metadata": {},
     "output_type": "display_data"
    },
    {
     "data": {
      "application/json": {}
     },
     "metadata": {},
     "output_type": "display_data"
    }
   ],
   "source": [
    "const re = /ab+c/\n",
    "const re1 = new RegExp(\"ab+c\")\n",
    "console.log(re)\n",
    "console.log(re1)"
   ]
  }
 ],
 "metadata": {
  "language_info": {
   "name": "python"
  },
  "orig_nbformat": 4
 },
 "nbformat": 4,
 "nbformat_minor": 2
}
