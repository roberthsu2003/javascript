{
 "cells": [
  {
   "cell_type": "code",
   "execution_count": 1,
   "metadata": {
    "dotnet_interactive": {
     "language": "javascript"
    },
    "polyglot_notebook": {
     "kernelName": "javascript"
    },
    "vscode": {
     "languageId": "polyglot-notebook"
    }
   },
   "outputs": [
    {
     "ename": "Error",
     "evalue": "Unexpected token ':'",
     "output_type": "error",
     "traceback": [
      "Unexpected token ':'"
     ]
    }
   ],
   "source": [
    "let today = new Date();\n",
    "let hourNow = today.getHours();\n",
    "let greeting:string;\n",
    "\n",
    "if(hourNow > 18){\n",
    "    greeting = 'Good evening!';\n",
    "}else if(hourNow > 12){\n",
    "    greeting = 'Good afternoon!';\n",
    "}else if(hourNow > 0){\n",
    "    greeting = 'Good morning';\n",
    "}else{\n",
    "    greeting = 'Welcome!'\n",
    "}\n",
    "console.log(greeting);"
   ]
  }
 ],
 "metadata": {
  "language_info": {
   "name": "python"
  },
  "orig_nbformat": 4
 },
 "nbformat": 4,
 "nbformat_minor": 2
}
